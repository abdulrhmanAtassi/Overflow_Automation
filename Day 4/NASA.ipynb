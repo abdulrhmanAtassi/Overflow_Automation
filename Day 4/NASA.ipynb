{
 "cells": [
  {
   "cell_type": "code",
   "execution_count": 3,
   "metadata": {},
   "outputs": [],
   "source": [
    "import requests\n",
    "p = {\n",
    "    'q' : 'Statue',\n",
    "    'media_type' : 'image',\n",
    "}\n",
    "r= requests.get('https://images-api.nasa.gov/search', params = p )"
   ]
  },
  {
   "cell_type": "code",
   "execution_count": 40,
   "metadata": {},
   "outputs": [
    {
     "data": {
      "text/plain": [
       "'http://images-assets.nasa.gov/image/0700505/0700505~orig.jpg'"
      ]
     },
     "execution_count": 40,
     "metadata": {},
     "output_type": "execute_result"
    }
   ],
   "source": [
    "import os \n",
    "os.rmdir()\n",
    "\n",
    "for i in range(0,100):\n",
    "    link = r.json()['collection']['items'][i]['href']\n",
    "    r1 = requests.get(link)\n",
    "    r1.json()[0]\n",
    "    "
   ]
  },
  {
   "cell_type": "code",
   "execution_count": null,
   "metadata": {},
   "outputs": [],
   "source": []
  }
 ],
 "metadata": {
  "kernelspec": {
   "display_name": "base",
   "language": "python",
   "name": "python3"
  },
  "language_info": {
   "codemirror_mode": {
    "name": "ipython",
    "version": 3
   },
   "file_extension": ".py",
   "mimetype": "text/x-python",
   "name": "python",
   "nbconvert_exporter": "python",
   "pygments_lexer": "ipython3",
   "version": "3.11.4"
  }
 },
 "nbformat": 4,
 "nbformat_minor": 2
}
