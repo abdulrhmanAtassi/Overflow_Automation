{
 "cells": [
  {
   "cell_type": "code",
   "execution_count": 13,
   "metadata": {},
   "outputs": [
    {
     "data": {
      "text/plain": [
       "{'time': ['2024-03-25',\n",
       "  '2024-03-26',\n",
       "  '2024-03-27',\n",
       "  '2024-03-28',\n",
       "  '2024-03-29',\n",
       "  '2024-03-30',\n",
       "  '2024-03-31'],\n",
       " 'temperature_2m_max': [13.9, 17.1, 23.3, 26.7, 20.4, 23.5, 25.0],\n",
       " 'temperature_2m_min': [6.4, 7.8, 11.8, 14.2, 13.3, 13.5, 13.5]}"
      ]
     },
     "execution_count": 13,
     "metadata": {},
     "output_type": "execute_result"
    }
   ],
   "source": [
    "import requests\n",
    "\n",
    "r = requests.get(\"https://api.open-meteo.com/v1/forecast?latitude=31.9539&longitude=35.9106&daily=temperature_2m_max,temperature_2m_min\")\n",
    "r.json()['daily']\n",
    "   "
   ]
  },
  {
   "cell_type": "code",
   "execution_count": null,
   "metadata": {},
   "outputs": [],
   "source": [
    "\n"
   ]
  }
 ],
 "metadata": {
  "kernelspec": {
   "display_name": "base",
   "language": "python",
   "name": "python3"
  },
  "language_info": {
   "codemirror_mode": {
    "name": "ipython",
    "version": 3
   },
   "file_extension": ".py",
   "mimetype": "text/x-python",
   "name": "python",
   "nbconvert_exporter": "python",
   "pygments_lexer": "ipython3",
   "version": "3.11.4"
  }
 },
 "nbformat": 4,
 "nbformat_minor": 2
}
